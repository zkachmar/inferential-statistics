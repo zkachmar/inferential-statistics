{
 "cells": [
  {
   "cell_type": "code",
   "execution_count": 120,
   "id": "26378fb6",
   "metadata": {
    "scrolled": true
   },
   "outputs": [],
   "source": [
    "from sklearn.datasets import fetch_openml\n",
    "from statsmodels.stats.power import zt_ind_solve_power, tt_ind_solve_power\n",
    "from statsmodels.formula.api import ols\n",
    "from statsmodels.stats.anova import anova_lm\n",
    "from itertools import combinations\n",
    "from scipy.stats import ttest_ind\n",
    "import scipy.stats as st\n",
    "from scipy.stats import ttest_1samp\n",
    "from scipy.stats import kstest\n",
    "from scipy.stats import chi2_contingenc\n",
    "import matplotlib.pyplot as plt\n",
    "import seaborn as sns\n",
    "import numpy as np\n",
    "import pandas as pd"
   ]
  },
  {
   "cell_type": "markdown",
   "id": "9b183ca3",
   "metadata": {},
   "source": [
    "# Завдання 1\n",
    "\n",
    "Компанія хоче оновити сайт перегляду фільмів. Оновлення зробить сайт в рази швидшим. Керівництво припускає, що це оновлення вплине на купівлю послуг компанії (підписку). Зараз частка людей, які оформлюють підписку з тих, хто взагалі заходить на сайт = 43%. Проте оновлення буде потребувати додаткових вкладень у сервери, тому було вибрано межу +5% з якої зміна буде вигідна. Ви обговорили параметри для тесту і вирішили, що alpha = 3%, а beta = 10% (power = 90%).\n",
    "\n",
    "a. Чи правильно компанія вибрала метрику для оцінки експерименту? Які є альтернативи? Які можуть виникнути виклики?\n",
    "\n",
    "b. Скільки даних потрібно зібрати для експерименту?\n",
    "\n",
    "c. Експеримент був проведений. Завантажте дані про підписки. Проведіть тест.\n",
    "\n",
    "Прокоментуйте вибір тесту та його результат. Чи рекомендуєте вводити оновлення на всю систему?"
   ]
  },
  {
   "cell_type": "code",
   "execution_count": 147,
   "id": "15d7bf0f",
   "metadata": {},
   "outputs": [
    {
     "name": "stderr",
     "output_type": "stream",
     "text": [
      "/Users/zoria/anaconda3/lib/python3.11/site-packages/scipy/stats/_continuous_distns.py:6832: RuntimeWarning: invalid value encountered in _nct_sf\n",
      "  return np.clip(_boost._nct_sf(x, df, nc), 0, 1)\n",
      "/Users/zoria/anaconda3/lib/python3.11/site-packages/scipy/stats/_continuous_distns.py:6826: RuntimeWarning: invalid value encountered in _nct_cdf\n",
      "  return np.clip(_boost._nct_cdf(x, df, nc), 0, 1)\n",
      "/Users/zoria/anaconda3/lib/python3.11/site-packages/scipy/stats/_continuous_distns.py:6832: RuntimeWarning: overflow encountered in _nct_sf\n",
      "  return np.clip(_boost._nct_sf(x, df, nc), 0, 1)\n",
      "/Users/zoria/anaconda3/lib/python3.11/site-packages/scipy/stats/_continuous_distns.py:6826: RuntimeWarning: overflow encountered in _nct_cdf\n",
      "  return np.clip(_boost._nct_cdf(x, df, nc), 0, 1)\n"
     ]
    },
    {
     "data": {
      "text/plain": [
       "2358.686827609867"
      ]
     },
     "execution_count": 147,
     "metadata": {},
     "output_type": "execute_result"
    }
   ],
   "source": [
    "alpha = 0.03\n",
    "power = 1 - 0.1\n",
    "p1 = 0.43\n",
    "p2 = 0.48\n",
    "q1 = 1 - p1\n",
    "q2 = 1 - p2\n",
    "# p*q -- формула дисперсії для розподілу Бернулі\n",
    "effect_size = (p2 - p1)/np.sqrt((p2*q2 + p1*q1)/2)\n",
    "tt_ind_solve_power(effect_size = effect_size,\n",
    "                   nobs1 = None,\n",
    "                   alpha = alpha,\n",
    "                   power = power,\n",
    "                   ratio = 1) # n1/n2"
   ]
  },
  {
   "cell_type": "code",
   "execution_count": 148,
   "id": "4850b586",
   "metadata": {},
   "outputs": [],
   "source": [
    "movies_data = pd.read_csv('ABtest_movies.csv')"
   ]
  },
  {
   "cell_type": "code",
   "execution_count": 149,
   "id": "79849d66",
   "metadata": {
    "scrolled": true
   },
   "outputs": [
    {
     "data": {
      "text/html": [
       "<div>\n",
       "<style scoped>\n",
       "    .dataframe tbody tr th:only-of-type {\n",
       "        vertical-align: middle;\n",
       "    }\n",
       "\n",
       "    .dataframe tbody tr th {\n",
       "        vertical-align: top;\n",
       "    }\n",
       "\n",
       "    .dataframe thead th {\n",
       "        text-align: right;\n",
       "    }\n",
       "</style>\n",
       "<table border=\"1\" class=\"dataframe\">\n",
       "  <thead>\n",
       "    <tr style=\"text-align: right;\">\n",
       "      <th></th>\n",
       "      <th>user_id</th>\n",
       "      <th>sign</th>\n",
       "      <th>group</th>\n",
       "    </tr>\n",
       "  </thead>\n",
       "  <tbody>\n",
       "    <tr>\n",
       "      <th>0</th>\n",
       "      <td>0</td>\n",
       "      <td>1</td>\n",
       "      <td>control</td>\n",
       "    </tr>\n",
       "    <tr>\n",
       "      <th>1</th>\n",
       "      <td>1</td>\n",
       "      <td>0</td>\n",
       "      <td>control</td>\n",
       "    </tr>\n",
       "    <tr>\n",
       "      <th>2</th>\n",
       "      <td>2</td>\n",
       "      <td>1</td>\n",
       "      <td>control</td>\n",
       "    </tr>\n",
       "    <tr>\n",
       "      <th>3</th>\n",
       "      <td>3</td>\n",
       "      <td>1</td>\n",
       "      <td>control</td>\n",
       "    </tr>\n",
       "    <tr>\n",
       "      <th>4</th>\n",
       "      <td>4</td>\n",
       "      <td>1</td>\n",
       "      <td>control</td>\n",
       "    </tr>\n",
       "  </tbody>\n",
       "</table>\n",
       "</div>"
      ],
      "text/plain": [
       "   user_id  sign    group\n",
       "0        0     1  control\n",
       "1        1     0  control\n",
       "2        2     1  control\n",
       "3        3     1  control\n",
       "4        4     1  control"
      ]
     },
     "execution_count": 149,
     "metadata": {},
     "output_type": "execute_result"
    }
   ],
   "source": [
    "movies_data.head()"
   ]
  },
  {
   "cell_type": "code",
   "execution_count": 150,
   "id": "0151c051",
   "metadata": {},
   "outputs": [
    {
     "data": {
      "text/html": [
       "<div>\n",
       "<style scoped>\n",
       "    .dataframe tbody tr th:only-of-type {\n",
       "        vertical-align: middle;\n",
       "    }\n",
       "\n",
       "    .dataframe tbody tr th {\n",
       "        vertical-align: top;\n",
       "    }\n",
       "\n",
       "    .dataframe thead th {\n",
       "        text-align: right;\n",
       "    }\n",
       "</style>\n",
       "<table border=\"1\" class=\"dataframe\">\n",
       "  <thead>\n",
       "    <tr style=\"text-align: right;\">\n",
       "      <th></th>\n",
       "      <th>group</th>\n",
       "      <th>all_records</th>\n",
       "      <th>subscribers</th>\n",
       "    </tr>\n",
       "  </thead>\n",
       "  <tbody>\n",
       "    <tr>\n",
       "      <th>0</th>\n",
       "      <td>control</td>\n",
       "      <td>2945</td>\n",
       "      <td>1259</td>\n",
       "    </tr>\n",
       "    <tr>\n",
       "      <th>1</th>\n",
       "      <td>test</td>\n",
       "      <td>2987</td>\n",
       "      <td>1479</td>\n",
       "    </tr>\n",
       "  </tbody>\n",
       "</table>\n",
       "</div>"
      ],
      "text/plain": [
       "     group  all_records  subscribers\n",
       "0  control         2945         1259\n",
       "1     test         2987         1479"
      ]
     },
     "execution_count": 150,
     "metadata": {},
     "output_type": "execute_result"
    }
   ],
   "source": [
    "groups = movies_data.groupby('group').agg(all_records=('sign', 'count'), subscribers=('sign', 'sum')).reset_index()\n",
    "groups"
   ]
  },
  {
   "cell_type": "code",
   "execution_count": 151,
   "id": "77f58aa0",
   "metadata": {},
   "outputs": [
    {
     "data": {
      "text/plain": [
       "0    42.750424\n",
       "1    49.514563\n",
       "dtype: float64"
      ]
     },
     "execution_count": 151,
     "metadata": {},
     "output_type": "execute_result"
    }
   ],
   "source": [
    "(groups.subscribers / groups.all_records) * 100"
   ]
  },
  {
   "cell_type": "code",
   "execution_count": 152,
   "id": "6dd4fd69",
   "metadata": {
    "scrolled": true
   },
   "outputs": [
    {
     "data": {
      "text/html": [
       "<div>\n",
       "<style scoped>\n",
       "    .dataframe tbody tr th:only-of-type {\n",
       "        vertical-align: middle;\n",
       "    }\n",
       "\n",
       "    .dataframe tbody tr th {\n",
       "        vertical-align: top;\n",
       "    }\n",
       "\n",
       "    .dataframe thead th {\n",
       "        text-align: right;\n",
       "    }\n",
       "</style>\n",
       "<table border=\"1\" class=\"dataframe\">\n",
       "  <thead>\n",
       "    <tr style=\"text-align: right;\">\n",
       "      <th></th>\n",
       "      <th>group</th>\n",
       "      <th>all_records</th>\n",
       "      <th>subscribers</th>\n",
       "      <th>conversions</th>\n",
       "    </tr>\n",
       "  </thead>\n",
       "  <tbody>\n",
       "    <tr>\n",
       "      <th>0</th>\n",
       "      <td>control</td>\n",
       "      <td>2945</td>\n",
       "      <td>1259</td>\n",
       "      <td>42.750424</td>\n",
       "    </tr>\n",
       "    <tr>\n",
       "      <th>1</th>\n",
       "      <td>test</td>\n",
       "      <td>2987</td>\n",
       "      <td>1479</td>\n",
       "      <td>49.514563</td>\n",
       "    </tr>\n",
       "  </tbody>\n",
       "</table>\n",
       "</div>"
      ],
      "text/plain": [
       "     group  all_records  subscribers  conversions\n",
       "0  control         2945         1259    42.750424\n",
       "1     test         2987         1479    49.514563"
      ]
     },
     "execution_count": 152,
     "metadata": {},
     "output_type": "execute_result"
    }
   ],
   "source": [
    "groups['conversions'] = (groups.subscribers / groups.all_records) * 100\n",
    "groups"
   ]
  },
  {
   "cell_type": "code",
   "execution_count": 153,
   "id": "256e3e13",
   "metadata": {},
   "outputs": [],
   "source": [
    "#не впевнена, що це має сенс, так як результат близький до 1\n",
    "\n",
    "\n",
    "# data_test = movies_data[movies_data.group == 'test'].sign\n",
    "# data_control = movies_data[movies_data.group == 'control'].sign\n",
    "\n",
    "# real_effect_size = (data_test.mean() - data_control.mean())/np.sqrt(data_test.var()/2 + data_control.var()/2)\n",
    "# tt_ind_solve_power(effect_size = real_effect_size,\n",
    "#                    nobs1 = 2945,\n",
    "#                    alpha = alpha,\n",
    "#                    power = None,\n",
    "#                    ratio = 2945/2987)"
   ]
  },
  {
   "cell_type": "code",
   "execution_count": 154,
   "id": "ac3def21",
   "metadata": {},
   "outputs": [
    {
     "name": "stderr",
     "output_type": "stream",
     "text": [
      "/Users/zoria/anaconda3/lib/python3.11/site-packages/scipy/stats/_continuous_distns.py:6832: RuntimeWarning: overflow encountered in _nct_sf\n",
      "  return np.clip(_boost._nct_sf(x, df, nc), 0, 1)\n",
      "/Users/zoria/anaconda3/lib/python3.11/site-packages/scipy/stats/_continuous_distns.py:6826: RuntimeWarning: overflow encountered in _nct_cdf\n",
      "  return np.clip(_boost._nct_cdf(x, df, nc), 0, 1)\n"
     ]
    },
    {
     "data": {
      "text/plain": [
       "0.9528630922498056"
      ]
     },
     "execution_count": 154,
     "metadata": {},
     "output_type": "execute_result"
    }
   ],
   "source": [
    "tt_ind_solve_power(effect_size = effect_size,\n",
    "                   nobs1 = 2945,\n",
    "                   alpha = alpha,\n",
    "                   power = None,\n",
    "                   ratio = 2945/2987)"
   ]
  },
  {
   "cell_type": "markdown",
   "id": "08fa70c5",
   "metadata": {},
   "source": [
    "Метрика, яку компанія вибрала - це конверсія в підписку. Це досить стандартна метрика для оцінки ефективності сайту. Альтернативами можуть бути такі метрики, як час проведений на сайті, кількість переглядів сторінок, тощо.\n",
    "\n",
    "Викликами може бути те, що підвищення конверсії може бути викликане не тільки оновленням сайту, але й іншими факторами, які не були враховані. Також, варто врахувати, що велика кількість тестів на сайті може призвести до \"тестування на втомлення\", коли користувачі стають менш зацікавленими у взаємодії через постійні зміни.\n",
    "\n",
    "Ми визначили, що для досягнення потрібної потужності (90%) при заданих рівнях значущості (0.03) і потужності (0.9), необхідно 2358 спостережень у кожній групі.\n",
    "\n",
    "Ми провели тест на двох групах: контрольній і тестовій. Отримали результат, що потужність тесту 95%.\n",
    "\n",
    "З таким високим рівнем потужності (більше 90%), можна стверджувати, що тестування проведено належним чином і можна довіряти результатам. Результати тесту показали позитивний вплив оновлення сайту на конверсію в підписки. Тобто запит компанії про збільшення конверсії у підписки на 5% було досягнуто. За допомогою тесту ми перевірили, що це обгрунтовані результати і вони точно не випадкові. Тому можна рекомендувати впроваджувати оновлення на всю систему."
   ]
  },
  {
   "cell_type": "markdown",
   "id": "2c778979",
   "metadata": {},
   "source": [
    "# Завдання 2\n",
    "\n",
    "Використайте дані про будівлі. Зробіть ANOVA аналіз для неперервної змінної LotArea залежно від категорій MSZoning. Прокоментуйте отримані результати."
   ]
  },
  {
   "cell_type": "code",
   "execution_count": 155,
   "id": "6345ee45",
   "metadata": {},
   "outputs": [
    {
     "name": "stderr",
     "output_type": "stream",
     "text": [
      "/Users/zoria/anaconda3/lib/python3.11/site-packages/sklearn/datasets/_openml.py:968: FutureWarning: The default value of `parser` will change from `'liac-arff'` to `'auto'` in 1.4. You can set `parser='auto'` to silence this warning. Therefore, an `ImportError` will be raised from 1.4 if the dataset is dense and pandas is not installed. Note that the pandas parser may return different data types. See the Notes Section in fetch_openml's API doc for details.\n",
      "  warn(\n"
     ]
    }
   ],
   "source": [
    "housing = fetch_openml(name=\"house_prices\", as_frame=True)\n",
    "sale_price = housing.target\n",
    "data = housing.data"
   ]
  },
  {
   "cell_type": "code",
   "execution_count": 156,
   "id": "25991d63",
   "metadata": {},
   "outputs": [
    {
     "data": {
      "text/html": [
       "<div>\n",
       "<style scoped>\n",
       "    .dataframe tbody tr th:only-of-type {\n",
       "        vertical-align: middle;\n",
       "    }\n",
       "\n",
       "    .dataframe tbody tr th {\n",
       "        vertical-align: top;\n",
       "    }\n",
       "\n",
       "    .dataframe thead th {\n",
       "        text-align: right;\n",
       "    }\n",
       "</style>\n",
       "<table border=\"1\" class=\"dataframe\">\n",
       "  <thead>\n",
       "    <tr style=\"text-align: right;\">\n",
       "      <th></th>\n",
       "      <th>LotArea</th>\n",
       "      <th>MSZoning</th>\n",
       "    </tr>\n",
       "  </thead>\n",
       "  <tbody>\n",
       "    <tr>\n",
       "      <th>0</th>\n",
       "      <td>8450</td>\n",
       "      <td>RL</td>\n",
       "    </tr>\n",
       "    <tr>\n",
       "      <th>1</th>\n",
       "      <td>9600</td>\n",
       "      <td>RL</td>\n",
       "    </tr>\n",
       "    <tr>\n",
       "      <th>2</th>\n",
       "      <td>11250</td>\n",
       "      <td>RL</td>\n",
       "    </tr>\n",
       "    <tr>\n",
       "      <th>3</th>\n",
       "      <td>9550</td>\n",
       "      <td>RL</td>\n",
       "    </tr>\n",
       "    <tr>\n",
       "      <th>4</th>\n",
       "      <td>14260</td>\n",
       "      <td>RL</td>\n",
       "    </tr>\n",
       "  </tbody>\n",
       "</table>\n",
       "</div>"
      ],
      "text/plain": [
       "   LotArea MSZoning\n",
       "0     8450       RL\n",
       "1     9600       RL\n",
       "2    11250       RL\n",
       "3     9550       RL\n",
       "4    14260       RL"
      ]
     },
     "execution_count": 156,
     "metadata": {},
     "output_type": "execute_result"
    }
   ],
   "source": [
    "data[[\"LotArea\", \"MSZoning\"]].head()"
   ]
  },
  {
   "cell_type": "code",
   "execution_count": 157,
   "id": "15b29594",
   "metadata": {},
   "outputs": [
    {
     "name": "stdout",
     "output_type": "stream",
     "text": [
      "                            OLS Regression Results                            \n",
      "==============================================================================\n",
      "Dep. Variable:                LotArea   R-squared:                       0.042\n",
      "Model:                            OLS   Adj. R-squared:                  0.040\n",
      "Method:                 Least Squares   F-statistic:                     16.09\n",
      "Date:                Sun, 19 Nov 2023   Prob (F-statistic):           6.71e-13\n",
      "Time:                        19:38:23   Log-Likelihood:                -15484.\n",
      "No. Observations:                1460   AIC:                         3.098e+04\n",
      "Df Residuals:                    1455   BIC:                         3.100e+04\n",
      "Df Model:                           4                                         \n",
      "Covariance Type:            nonrobust                                         \n",
      "========================================================================================\n",
      "                           coef    std err          t      P>|t|      [0.025      0.975]\n",
      "----------------------------------------------------------------------------------------\n",
      "C(MSZoning)[C (all)]  9501.3000   3093.018      3.072      0.002    3434.048    1.56e+04\n",
      "C(MSZoning)[FV]       6638.8615   1213.182      5.472      0.000    4259.090    9018.633\n",
      "C(MSZoning)[RH]       7380.0625   2445.246      3.018      0.003    2583.479    1.22e+04\n",
      "C(MSZoning)[RL]       1.157e+04    288.300     40.138      0.000     1.1e+04    1.21e+04\n",
      "C(MSZoning)[RM]       6379.7752    662.452      9.631      0.000    5080.313    7679.238\n",
      "==============================================================================\n",
      "Omnibus:                     2646.351   Durbin-Watson:                   2.028\n",
      "Prob(Omnibus):                  0.000   Jarque-Bera (JB):          2865673.241\n",
      "Skew:                          12.738   Prob(JB):                         0.00\n",
      "Kurtosis:                     218.541   Cond. No.                         10.7\n",
      "==============================================================================\n",
      "\n",
      "Notes:\n",
      "[1] Standard Errors assume that the covariance matrix of the errors is correctly specified.\n",
      "                  Id  MSSubClass  LotFrontage       LotArea  OverallQual  \\\n",
      "MSZoning                                                                   \n",
      "C (all)   605.200000   56.000000    69.700000   9501.300000     3.900000   \n",
      "FV        707.030769   90.461538    59.491228   6638.861538     7.200000   \n",
      "RH        860.437500   80.312500    58.923077   7380.062500     5.250000   \n",
      "RL        737.277150   49.374457    74.680043  11571.814075     6.190269   \n",
      "RM        697.926606   84.931193    52.366834   6379.775229     5.454128   \n",
      "\n",
      "          OverallCond    YearBuilt  YearRemodAdd  MasVnrArea  BsmtFinSF1  ...  \\\n",
      "MSZoning                                                                  ...   \n",
      "C (all)      4.600000  1924.100000   1958.200000    0.000000  222.800000  ...   \n",
      "FV           5.030769  2004.507692   2004.830769  140.806452  327.892308  ...   \n",
      "RH           5.562500  1945.687500   1971.937500   57.812500  312.750000  ...   \n",
      "RL           5.535187  1975.461338   1985.659427  112.260908  492.514335  ...   \n",
      "RM           5.995413  1943.256881   1976.894495   56.169725  239.839450  ...   \n",
      "\n",
      "          GarageArea  WoodDeckSF  OpenPorchSF  EnclosedPorch  3SsnPorch  \\\n",
      "MSZoning                                                                  \n",
      "C (all)   429.800000    9.800000    64.400000      82.500000   0.000000   \n",
      "FV        586.707692   57.276923   103.476923       0.000000   0.000000   \n",
      "RH        324.375000   67.625000    28.250000      58.687500   0.000000   \n",
      "RL        491.761077  105.133797    45.141616      16.892268   4.192007   \n",
      "RM        352.798165   53.600917    38.275229      49.752294   0.701835   \n",
      "\n",
      "          ScreenPorch  PoolArea    MiscVal    MoSold       YrSold  \n",
      "MSZoning                                                           \n",
      "C (all)      9.900000  0.000000  61.400000  7.700000  2008.300000  \n",
      "FV           3.046154  0.000000   0.000000  6.276923  2007.846154  \n",
      "RH           0.000000  0.000000   0.000000  7.500000  2007.500000  \n",
      "RL          16.841877  3.499566  47.749783  6.317116  2007.824500  \n",
      "RM          10.582569  0.000000  36.330275  6.211009  2007.761468  \n",
      "\n",
      "[5 rows x 37 columns]\n",
      "                 df        sum_sq       mean_sq         F        PR(>F)\n",
      "C(MSZoning)     4.0  6.157425e+09  1.539356e+09  16.09067  6.711090e-13\n",
      "Residual     1455.0  1.391964e+11  9.566763e+07       NaN           NaN\n"
     ]
    },
    {
     "name": "stderr",
     "output_type": "stream",
     "text": [
      "/var/folders/15/ks9q9zp55y99s4lt86203cn00000gn/T/ipykernel_11498/1876146589.py:3: FutureWarning: The default value of numeric_only in DataFrameGroupBy.mean is deprecated. In a future version, numeric_only will default to False. Either specify numeric_only or select only columns which should be valid for the function.\n",
      "  print(data.groupby(\"MSZoning\").mean())\n"
     ]
    }
   ],
   "source": [
    "lm = ols('LotArea ~ C(MSZoning)-1', data=data).fit()\n",
    "print(lm.summary())\n",
    "print(data.groupby(\"MSZoning\").mean())\n",
    "\n",
    "lm = ols('LotArea ~ C(MSZoning)', data=data).fit()\n",
    "table = anova_lm(lm, typ=1)\n",
    "print(table)"
   ]
  },
  {
   "cell_type": "code",
   "execution_count": 158,
   "id": "d62d27c2",
   "metadata": {},
   "outputs": [
    {
     "data": {
      "text/plain": [
       "array(['RL', 'RM', 'C (all)', 'FV', 'RH'], dtype=object)"
      ]
     },
     "execution_count": 158,
     "metadata": {},
     "output_type": "execute_result"
    }
   ],
   "source": [
    "data['MSZoning'].unique()"
   ]
  },
  {
   "cell_type": "code",
   "execution_count": 159,
   "id": "424a3041",
   "metadata": {
    "scrolled": true
   },
   "outputs": [
    {
     "name": "stdout",
     "output_type": "stream",
     "text": [
      "T-test for RL       and   RM       p-value = 2.2522549131697287e-37\n",
      "T-test for RL       and   C (all)  p-value = 0.07457104063467768\n",
      "T-test for RL       and   FV       p-value = 3.376374414706445e-18\n",
      "T-test for RL       and   RH       p-value = 1.8671356848298305e-06\n",
      "T-test for RM       and   C (all)  p-value = 0.012472637915642439\n",
      "T-test for RM       and   FV       p-value = 0.5672590918843472\n",
      "T-test for RM       and   RH       p-value = 0.1331521745058092\n",
      "T-test for C (all)  and   FV       p-value = 0.02071908994728987\n",
      "T-test for C (all)  and   RH       p-value = 0.08820415318815363\n",
      "T-test for FV       and   RH       p-value = 0.30780997172709246\n"
     ]
    }
   ],
   "source": [
    "unique_values = ['RL', 'RM', 'C (all)', 'FV', 'RH']\n",
    "\n",
    "# Generate all pairs of values\n",
    "pairs = list(combinations(unique_values, 2))\n",
    "\n",
    "for item_1, item_2 in pairs:\n",
    "    test_result = ttest_ind(data[data['MSZoning'] == item_1].LotArea, \n",
    "                            data[data['MSZoning'] == item_2].LotArea, \n",
    "                            equal_var = False)\n",
    "    print(f\"T-test for {item_1:<8} and   {item_2:<8} p-value = {test_result.pvalue}\")"
   ]
  },
  {
   "cell_type": "markdown",
   "id": "6fa2bcbc",
   "metadata": {},
   "source": [
    "Ми зробили ANOVA аналіз для неперервної змінної LotArea залежно від категорій MSZoning. \n",
    "\n",
    "Ми отримали дуже мале значення нашого ANOVA тесту (PR(>F)), а саме 6.711090e-13. Це означає, що в групі є різниця. Щоб краще зрозуміти у яких категорій є різниця ми провели попарні Т-тести. \n",
    "\n",
    "Ми можемо бачити, що для категорій RL та RM, RL та FV, RL та RH, RM та C (all), C (all) та FV p-value є дуже малим, що свідчить про статистично значимі різниці в площі LotArea. Тобто, ці категорії суттєво відрізняються за площею території.\n",
    "\n",
    "Проте, немає статистично значущих різниць у LotArea для категорій RL та C (all), RM та FV, RM та RH, C (all) та RH, FV та RH, так як p-value для цих категорій більше 7%."
   ]
  },
  {
   "cell_type": "markdown",
   "id": "5414904c",
   "metadata": {},
   "source": [
    "# Завдання 3a\n",
    "\n",
    "Проаналізуємо чи впливає наявність каміну на ціну будівлі. На основі ознаки Fireplaces створіть нову ознаку наявності чи відсутності каміну у будинку.\n",
    "\n",
    "Проведіть наступні тести:\n",
    "\n",
    "a. Покупець стверджує, що середня ціна на будинки з каміном має перевищувати 210,000 доларів. Проведіть тест для перевірки цієї гіпотези. Результати інтерпретуйте."
   ]
  },
  {
   "cell_type": "code",
   "execution_count": 160,
   "id": "27fb00ce",
   "metadata": {},
   "outputs": [
    {
     "data": {
      "text/plain": [
       "0       208500\n",
       "1       181500\n",
       "2       223500\n",
       "3       140000\n",
       "4       250000\n",
       "         ...  \n",
       "1455    175000\n",
       "1456    210000\n",
       "1457    266500\n",
       "1458    142125\n",
       "1459    147500\n",
       "Name: SalePrice, Length: 1460, dtype: int64"
      ]
     },
     "execution_count": 160,
     "metadata": {},
     "output_type": "execute_result"
    }
   ],
   "source": [
    "housing.target"
   ]
  },
  {
   "cell_type": "code",
   "execution_count": 161,
   "id": "f06da502",
   "metadata": {},
   "outputs": [
    {
     "data": {
      "text/plain": [
       "array([0, 1, 2, 3])"
      ]
     },
     "execution_count": 161,
     "metadata": {},
     "output_type": "execute_result"
    }
   ],
   "source": [
    "data['Fireplaces'].unique()"
   ]
  },
  {
   "cell_type": "code",
   "execution_count": 162,
   "id": "37f95306",
   "metadata": {},
   "outputs": [],
   "source": [
    "data_3 = housing.data\n",
    "data_3['SalePrice'] = housing.target\n",
    "data_3['has_fireplaces'] = data_3['Fireplaces'] >= 1"
   ]
  },
  {
   "cell_type": "code",
   "execution_count": 163,
   "id": "d66630b7",
   "metadata": {},
   "outputs": [
    {
     "data": {
      "text/plain": [
       "0       False\n",
       "1        True\n",
       "2        True\n",
       "3        True\n",
       "4        True\n",
       "        ...  \n",
       "1455     True\n",
       "1456     True\n",
       "1457     True\n",
       "1458    False\n",
       "1459    False\n",
       "Name: has_fireplaces, Length: 1460, dtype: bool"
      ]
     },
     "execution_count": 163,
     "metadata": {},
     "output_type": "execute_result"
    }
   ],
   "source": [
    "data_3['has_fireplaces']"
   ]
  },
  {
   "cell_type": "code",
   "execution_count": 164,
   "id": "d388fc88",
   "metadata": {
    "scrolled": true
   },
   "outputs": [
    {
     "data": {
      "text/html": [
       "<div>\n",
       "<style scoped>\n",
       "    .dataframe tbody tr th:only-of-type {\n",
       "        vertical-align: middle;\n",
       "    }\n",
       "\n",
       "    .dataframe tbody tr th {\n",
       "        vertical-align: top;\n",
       "    }\n",
       "\n",
       "    .dataframe thead th {\n",
       "        text-align: right;\n",
       "    }\n",
       "</style>\n",
       "<table border=\"1\" class=\"dataframe\">\n",
       "  <thead>\n",
       "    <tr style=\"text-align: right;\">\n",
       "      <th></th>\n",
       "      <th>Id</th>\n",
       "      <th>MSSubClass</th>\n",
       "      <th>MSZoning</th>\n",
       "      <th>LotFrontage</th>\n",
       "      <th>LotArea</th>\n",
       "      <th>Street</th>\n",
       "      <th>Alley</th>\n",
       "      <th>LotShape</th>\n",
       "      <th>LandContour</th>\n",
       "      <th>Utilities</th>\n",
       "      <th>...</th>\n",
       "      <th>PoolQC</th>\n",
       "      <th>Fence</th>\n",
       "      <th>MiscFeature</th>\n",
       "      <th>MiscVal</th>\n",
       "      <th>MoSold</th>\n",
       "      <th>YrSold</th>\n",
       "      <th>SaleType</th>\n",
       "      <th>SaleCondition</th>\n",
       "      <th>SalePrice</th>\n",
       "      <th>has_fireplaces</th>\n",
       "    </tr>\n",
       "  </thead>\n",
       "  <tbody>\n",
       "    <tr>\n",
       "      <th>0</th>\n",
       "      <td>1</td>\n",
       "      <td>60</td>\n",
       "      <td>RL</td>\n",
       "      <td>65.0</td>\n",
       "      <td>8450</td>\n",
       "      <td>Pave</td>\n",
       "      <td>None</td>\n",
       "      <td>Reg</td>\n",
       "      <td>Lvl</td>\n",
       "      <td>AllPub</td>\n",
       "      <td>...</td>\n",
       "      <td>None</td>\n",
       "      <td>None</td>\n",
       "      <td>None</td>\n",
       "      <td>0</td>\n",
       "      <td>2</td>\n",
       "      <td>2008</td>\n",
       "      <td>WD</td>\n",
       "      <td>Normal</td>\n",
       "      <td>208500</td>\n",
       "      <td>False</td>\n",
       "    </tr>\n",
       "    <tr>\n",
       "      <th>1</th>\n",
       "      <td>2</td>\n",
       "      <td>20</td>\n",
       "      <td>RL</td>\n",
       "      <td>80.0</td>\n",
       "      <td>9600</td>\n",
       "      <td>Pave</td>\n",
       "      <td>None</td>\n",
       "      <td>Reg</td>\n",
       "      <td>Lvl</td>\n",
       "      <td>AllPub</td>\n",
       "      <td>...</td>\n",
       "      <td>None</td>\n",
       "      <td>None</td>\n",
       "      <td>None</td>\n",
       "      <td>0</td>\n",
       "      <td>5</td>\n",
       "      <td>2007</td>\n",
       "      <td>WD</td>\n",
       "      <td>Normal</td>\n",
       "      <td>181500</td>\n",
       "      <td>True</td>\n",
       "    </tr>\n",
       "    <tr>\n",
       "      <th>2</th>\n",
       "      <td>3</td>\n",
       "      <td>60</td>\n",
       "      <td>RL</td>\n",
       "      <td>68.0</td>\n",
       "      <td>11250</td>\n",
       "      <td>Pave</td>\n",
       "      <td>None</td>\n",
       "      <td>IR1</td>\n",
       "      <td>Lvl</td>\n",
       "      <td>AllPub</td>\n",
       "      <td>...</td>\n",
       "      <td>None</td>\n",
       "      <td>None</td>\n",
       "      <td>None</td>\n",
       "      <td>0</td>\n",
       "      <td>9</td>\n",
       "      <td>2008</td>\n",
       "      <td>WD</td>\n",
       "      <td>Normal</td>\n",
       "      <td>223500</td>\n",
       "      <td>True</td>\n",
       "    </tr>\n",
       "    <tr>\n",
       "      <th>3</th>\n",
       "      <td>4</td>\n",
       "      <td>70</td>\n",
       "      <td>RL</td>\n",
       "      <td>60.0</td>\n",
       "      <td>9550</td>\n",
       "      <td>Pave</td>\n",
       "      <td>None</td>\n",
       "      <td>IR1</td>\n",
       "      <td>Lvl</td>\n",
       "      <td>AllPub</td>\n",
       "      <td>...</td>\n",
       "      <td>None</td>\n",
       "      <td>None</td>\n",
       "      <td>None</td>\n",
       "      <td>0</td>\n",
       "      <td>2</td>\n",
       "      <td>2006</td>\n",
       "      <td>WD</td>\n",
       "      <td>Abnorml</td>\n",
       "      <td>140000</td>\n",
       "      <td>True</td>\n",
       "    </tr>\n",
       "    <tr>\n",
       "      <th>4</th>\n",
       "      <td>5</td>\n",
       "      <td>60</td>\n",
       "      <td>RL</td>\n",
       "      <td>84.0</td>\n",
       "      <td>14260</td>\n",
       "      <td>Pave</td>\n",
       "      <td>None</td>\n",
       "      <td>IR1</td>\n",
       "      <td>Lvl</td>\n",
       "      <td>AllPub</td>\n",
       "      <td>...</td>\n",
       "      <td>None</td>\n",
       "      <td>None</td>\n",
       "      <td>None</td>\n",
       "      <td>0</td>\n",
       "      <td>12</td>\n",
       "      <td>2008</td>\n",
       "      <td>WD</td>\n",
       "      <td>Normal</td>\n",
       "      <td>250000</td>\n",
       "      <td>True</td>\n",
       "    </tr>\n",
       "    <tr>\n",
       "      <th>...</th>\n",
       "      <td>...</td>\n",
       "      <td>...</td>\n",
       "      <td>...</td>\n",
       "      <td>...</td>\n",
       "      <td>...</td>\n",
       "      <td>...</td>\n",
       "      <td>...</td>\n",
       "      <td>...</td>\n",
       "      <td>...</td>\n",
       "      <td>...</td>\n",
       "      <td>...</td>\n",
       "      <td>...</td>\n",
       "      <td>...</td>\n",
       "      <td>...</td>\n",
       "      <td>...</td>\n",
       "      <td>...</td>\n",
       "      <td>...</td>\n",
       "      <td>...</td>\n",
       "      <td>...</td>\n",
       "      <td>...</td>\n",
       "      <td>...</td>\n",
       "    </tr>\n",
       "    <tr>\n",
       "      <th>1455</th>\n",
       "      <td>1456</td>\n",
       "      <td>60</td>\n",
       "      <td>RL</td>\n",
       "      <td>62.0</td>\n",
       "      <td>7917</td>\n",
       "      <td>Pave</td>\n",
       "      <td>None</td>\n",
       "      <td>Reg</td>\n",
       "      <td>Lvl</td>\n",
       "      <td>AllPub</td>\n",
       "      <td>...</td>\n",
       "      <td>None</td>\n",
       "      <td>None</td>\n",
       "      <td>None</td>\n",
       "      <td>0</td>\n",
       "      <td>8</td>\n",
       "      <td>2007</td>\n",
       "      <td>WD</td>\n",
       "      <td>Normal</td>\n",
       "      <td>175000</td>\n",
       "      <td>True</td>\n",
       "    </tr>\n",
       "    <tr>\n",
       "      <th>1456</th>\n",
       "      <td>1457</td>\n",
       "      <td>20</td>\n",
       "      <td>RL</td>\n",
       "      <td>85.0</td>\n",
       "      <td>13175</td>\n",
       "      <td>Pave</td>\n",
       "      <td>None</td>\n",
       "      <td>Reg</td>\n",
       "      <td>Lvl</td>\n",
       "      <td>AllPub</td>\n",
       "      <td>...</td>\n",
       "      <td>None</td>\n",
       "      <td>MnPrv</td>\n",
       "      <td>None</td>\n",
       "      <td>0</td>\n",
       "      <td>2</td>\n",
       "      <td>2010</td>\n",
       "      <td>WD</td>\n",
       "      <td>Normal</td>\n",
       "      <td>210000</td>\n",
       "      <td>True</td>\n",
       "    </tr>\n",
       "    <tr>\n",
       "      <th>1457</th>\n",
       "      <td>1458</td>\n",
       "      <td>70</td>\n",
       "      <td>RL</td>\n",
       "      <td>66.0</td>\n",
       "      <td>9042</td>\n",
       "      <td>Pave</td>\n",
       "      <td>None</td>\n",
       "      <td>Reg</td>\n",
       "      <td>Lvl</td>\n",
       "      <td>AllPub</td>\n",
       "      <td>...</td>\n",
       "      <td>None</td>\n",
       "      <td>GdPrv</td>\n",
       "      <td>Shed</td>\n",
       "      <td>2500</td>\n",
       "      <td>5</td>\n",
       "      <td>2010</td>\n",
       "      <td>WD</td>\n",
       "      <td>Normal</td>\n",
       "      <td>266500</td>\n",
       "      <td>True</td>\n",
       "    </tr>\n",
       "    <tr>\n",
       "      <th>1458</th>\n",
       "      <td>1459</td>\n",
       "      <td>20</td>\n",
       "      <td>RL</td>\n",
       "      <td>68.0</td>\n",
       "      <td>9717</td>\n",
       "      <td>Pave</td>\n",
       "      <td>None</td>\n",
       "      <td>Reg</td>\n",
       "      <td>Lvl</td>\n",
       "      <td>AllPub</td>\n",
       "      <td>...</td>\n",
       "      <td>None</td>\n",
       "      <td>None</td>\n",
       "      <td>None</td>\n",
       "      <td>0</td>\n",
       "      <td>4</td>\n",
       "      <td>2010</td>\n",
       "      <td>WD</td>\n",
       "      <td>Normal</td>\n",
       "      <td>142125</td>\n",
       "      <td>False</td>\n",
       "    </tr>\n",
       "    <tr>\n",
       "      <th>1459</th>\n",
       "      <td>1460</td>\n",
       "      <td>20</td>\n",
       "      <td>RL</td>\n",
       "      <td>75.0</td>\n",
       "      <td>9937</td>\n",
       "      <td>Pave</td>\n",
       "      <td>None</td>\n",
       "      <td>Reg</td>\n",
       "      <td>Lvl</td>\n",
       "      <td>AllPub</td>\n",
       "      <td>...</td>\n",
       "      <td>None</td>\n",
       "      <td>None</td>\n",
       "      <td>None</td>\n",
       "      <td>0</td>\n",
       "      <td>6</td>\n",
       "      <td>2008</td>\n",
       "      <td>WD</td>\n",
       "      <td>Normal</td>\n",
       "      <td>147500</td>\n",
       "      <td>False</td>\n",
       "    </tr>\n",
       "  </tbody>\n",
       "</table>\n",
       "<p>1460 rows × 82 columns</p>\n",
       "</div>"
      ],
      "text/plain": [
       "        Id  MSSubClass MSZoning  LotFrontage  LotArea Street Alley LotShape  \\\n",
       "0        1          60       RL         65.0     8450   Pave  None      Reg   \n",
       "1        2          20       RL         80.0     9600   Pave  None      Reg   \n",
       "2        3          60       RL         68.0    11250   Pave  None      IR1   \n",
       "3        4          70       RL         60.0     9550   Pave  None      IR1   \n",
       "4        5          60       RL         84.0    14260   Pave  None      IR1   \n",
       "...    ...         ...      ...          ...      ...    ...   ...      ...   \n",
       "1455  1456          60       RL         62.0     7917   Pave  None      Reg   \n",
       "1456  1457          20       RL         85.0    13175   Pave  None      Reg   \n",
       "1457  1458          70       RL         66.0     9042   Pave  None      Reg   \n",
       "1458  1459          20       RL         68.0     9717   Pave  None      Reg   \n",
       "1459  1460          20       RL         75.0     9937   Pave  None      Reg   \n",
       "\n",
       "     LandContour Utilities  ... PoolQC  Fence MiscFeature MiscVal MoSold  \\\n",
       "0            Lvl    AllPub  ...   None   None        None       0      2   \n",
       "1            Lvl    AllPub  ...   None   None        None       0      5   \n",
       "2            Lvl    AllPub  ...   None   None        None       0      9   \n",
       "3            Lvl    AllPub  ...   None   None        None       0      2   \n",
       "4            Lvl    AllPub  ...   None   None        None       0     12   \n",
       "...          ...       ...  ...    ...    ...         ...     ...    ...   \n",
       "1455         Lvl    AllPub  ...   None   None        None       0      8   \n",
       "1456         Lvl    AllPub  ...   None  MnPrv        None       0      2   \n",
       "1457         Lvl    AllPub  ...   None  GdPrv        Shed    2500      5   \n",
       "1458         Lvl    AllPub  ...   None   None        None       0      4   \n",
       "1459         Lvl    AllPub  ...   None   None        None       0      6   \n",
       "\n",
       "     YrSold SaleType  SaleCondition  SalePrice  has_fireplaces  \n",
       "0      2008       WD         Normal     208500           False  \n",
       "1      2007       WD         Normal     181500            True  \n",
       "2      2008       WD         Normal     223500            True  \n",
       "3      2006       WD        Abnorml     140000            True  \n",
       "4      2008       WD         Normal     250000            True  \n",
       "...     ...      ...            ...        ...             ...  \n",
       "1455   2007       WD         Normal     175000            True  \n",
       "1456   2010       WD         Normal     210000            True  \n",
       "1457   2010       WD         Normal     266500            True  \n",
       "1458   2010       WD         Normal     142125           False  \n",
       "1459   2008       WD         Normal     147500           False  \n",
       "\n",
       "[1460 rows x 82 columns]"
      ]
     },
     "execution_count": 164,
     "metadata": {},
     "output_type": "execute_result"
    }
   ],
   "source": [
    "data_3"
   ]
  },
  {
   "cell_type": "code",
   "execution_count": 165,
   "id": "1d10cf17",
   "metadata": {},
   "outputs": [
    {
     "data": {
      "text/plain": [
       "TtestResult(statistic=2.0442282236393643, pvalue=0.04127111458213674, df=769)"
      ]
     },
     "execution_count": 165,
     "metadata": {},
     "output_type": "execute_result"
    }
   ],
   "source": [
    "# перевірка чи середня ціна на будинки з каміном перевищує 210000\n",
    "ttest_1samp(data_3[data_3['has_fireplaces']].SalePrice, 210000, alternative = 'two-sided')\n",
    "#H0: m != 210000\n",
    "#H1: m  = 210000"
   ]
  },
  {
   "cell_type": "code",
   "execution_count": 166,
   "id": "0b27b4c5",
   "metadata": {},
   "outputs": [
    {
     "data": {
      "text/plain": [
       "TtestResult(statistic=2.0442282236393643, pvalue=0.02063555729106837, df=769)"
      ]
     },
     "execution_count": 166,
     "metadata": {},
     "output_type": "execute_result"
    }
   ],
   "source": [
    "# перевірка чи середня ціна на будинки з каміном перевищує 210000\n",
    "ttest_1samp(data_3[data_3['has_fireplaces']].SalePrice, 210000, alternative = 'greater')\n",
    "#H0: m>210000\n",
    "#H1: m<=210000"
   ]
  },
  {
   "cell_type": "code",
   "execution_count": 167,
   "id": "01cdd9bd",
   "metadata": {},
   "outputs": [
    {
     "data": {
      "text/plain": [
       "TtestResult(statistic=2.0442282236393643, pvalue=0.9793644427089316, df=769)"
      ]
     },
     "execution_count": 167,
     "metadata": {},
     "output_type": "execute_result"
    }
   ],
   "source": [
    "# перевірка чи середня ціна на будинки з каміном перевищує 210000\n",
    "ttest_1samp(data_3[data_3['has_fireplaces']].SalePrice, 210000, alternative = 'less')\n",
    "#H0: m<210000\n",
    "#H1: m>=210000"
   ]
  },
  {
   "cell_type": "markdown",
   "id": "c705d0fc",
   "metadata": {},
   "source": [
    "Для перевірки гіпотези про те, що середня ціна на будинки з каміном буде перевищувати 210000, ми провели Т-тест.\n",
    "Результати тесту, дозволяють нам стверджувати, що середня ціна на будинки з каміном справді перевищує 210000. Такі висновки ми можемо зробити враховуючи значення p-value, яке в нашому випадку становить 2%."
   ]
  },
  {
   "cell_type": "markdown",
   "id": "e3787c88",
   "metadata": {},
   "source": [
    "# Завдання 3b\n",
    "\n",
    "b. Проведіть KS тест на порівняння двох розподілів ціни для будівель з та без каміну. Чи відрізняється розподіли ціни у двох категоріях? Результати прокоментуйте."
   ]
  },
  {
   "cell_type": "code",
   "execution_count": 168,
   "id": "64cf7ae0",
   "metadata": {},
   "outputs": [
    {
     "data": {
      "text/plain": [
       "KstestResult(statistic=0.4862224731789949, pvalue=1.4719627539480874e-78, statistic_location=156000, statistic_sign=-1)"
      ]
     },
     "execution_count": 168,
     "metadata": {},
     "output_type": "execute_result"
    }
   ],
   "source": [
    "kstest(data_3[data_3.has_fireplaces == True].SalePrice, data_3[data_3.has_fireplaces == False].SalePrice)"
   ]
  },
  {
   "cell_type": "code",
   "execution_count": 169,
   "id": "d1b8f218",
   "metadata": {
    "scrolled": true
   },
   "outputs": [
    {
     "data": {
      "image/png": "[encoded data removed]",
      "text/plain": [
       "<Figure size 640x480 with 1 Axes>"
      ]
     },
     "metadata": {},
     "output_type": "display_data"
    }
   ],
   "source": [
    "saleprice_fireplace = data_3[data_3.has_fireplaces]['SalePrice']\n",
    "saleprice_no_fireplace = data_3[~data_3.has_fireplaces]['SalePrice']\n",
    "\n",
    "# Plotting the distributions using KDE plot\n",
    "sns.kdeplot(saleprice_fireplace, label='Has Fireplaces')\n",
    "sns.kdeplot(saleprice_no_fireplace, label='No Fireplaces')\n",
    "\n",
    "plt.legend()\n",
    "plt.xlabel('Sale Price')\n",
    "plt.title('Distribution of Sale Price for Houses with and without Fireplaces')\n",
    "\n",
    "plt.show()"
   ]
  },
  {
   "cell_type": "markdown",
   "id": "add32475",
   "metadata": {},
   "source": [
    "Для порівняння двох розподілів ціни для будівель з та без каміну ми провели KS тест. Отримане значення pvalue є дуже малим (1.4719627539480874e-78), що свідчить про те, що розподіли цін для будівель з та без каміну відрізняються. Для кращого розуміння, як саме відрізняються розподіли, я побудувала графік."
   ]
  },
  {
   "cell_type": "markdown",
   "id": "2a3a39b7",
   "metadata": {},
   "source": [
    "# Завдання 4\n",
    "\n",
    "Проаналізуємо чи типи будинків (BldgType) одинаково розподілені по зонах (MSZoning). Виберіть правильний тест для порівняння двох категорій, проведіть його і опишіть результати."
   ]
  },
  {
   "cell_type": "code",
   "execution_count": 170,
   "id": "5f046023",
   "metadata": {
    "scrolled": true
   },
   "outputs": [
    {
     "name": "stdout",
     "output_type": "stream",
     "text": [
      "χ² = 222.95209456537017\n",
      "p-value = 1.7470289640148326e-38\n",
      "Degrees of Freedom = 16\n"
     ]
    }
   ],
   "source": [
    "contingency_table = pd.crosstab(data_3['BldgType'], data_3['MSZoning'])\n",
    "\n",
    "chi2, p, dof, expected = chi2_contingency(contingency_table)\n",
    "\n",
    "print(f\"χ² = {chi2}\")\n",
    "print(f\"p-value = {p}\")\n",
    "print(f\"Degrees of Freedom = {dof}\")"
   ]
  },
  {
   "cell_type": "code",
   "execution_count": 171,
   "id": "c3799728",
   "metadata": {},
   "outputs": [
    {
     "data": {
      "text/html": [
       "<div>\n",
       "<style scoped>\n",
       "    .dataframe tbody tr th:only-of-type {\n",
       "        vertical-align: middle;\n",
       "    }\n",
       "\n",
       "    .dataframe tbody tr th {\n",
       "        vertical-align: top;\n",
       "    }\n",
       "\n",
       "    .dataframe thead th {\n",
       "        text-align: right;\n",
       "    }\n",
       "</style>\n",
       "<table border=\"1\" class=\"dataframe\">\n",
       "  <thead>\n",
       "    <tr style=\"text-align: right;\">\n",
       "      <th>MSZoning</th>\n",
       "      <th>C (all)</th>\n",
       "      <th>FV</th>\n",
       "      <th>RH</th>\n",
       "      <th>RL</th>\n",
       "      <th>RM</th>\n",
       "    </tr>\n",
       "    <tr>\n",
       "      <th>BldgType</th>\n",
       "      <th></th>\n",
       "      <th></th>\n",
       "      <th></th>\n",
       "      <th></th>\n",
       "      <th></th>\n",
       "    </tr>\n",
       "  </thead>\n",
       "  <tbody>\n",
       "    <tr>\n",
       "      <th>1Fam</th>\n",
       "      <td>9</td>\n",
       "      <td>38</td>\n",
       "      <td>9</td>\n",
       "      <td>1025</td>\n",
       "      <td>139</td>\n",
       "    </tr>\n",
       "    <tr>\n",
       "      <th>2fmCon</th>\n",
       "      <td>1</td>\n",
       "      <td>0</td>\n",
       "      <td>2</td>\n",
       "      <td>16</td>\n",
       "      <td>12</td>\n",
       "    </tr>\n",
       "    <tr>\n",
       "      <th>Duplex</th>\n",
       "      <td>0</td>\n",
       "      <td>0</td>\n",
       "      <td>3</td>\n",
       "      <td>43</td>\n",
       "      <td>6</td>\n",
       "    </tr>\n",
       "    <tr>\n",
       "      <th>Twnhs</th>\n",
       "      <td>0</td>\n",
       "      <td>9</td>\n",
       "      <td>0</td>\n",
       "      <td>10</td>\n",
       "      <td>24</td>\n",
       "    </tr>\n",
       "    <tr>\n",
       "      <th>TwnhsE</th>\n",
       "      <td>0</td>\n",
       "      <td>18</td>\n",
       "      <td>2</td>\n",
       "      <td>57</td>\n",
       "      <td>37</td>\n",
       "    </tr>\n",
       "  </tbody>\n",
       "</table>\n",
       "</div>"
      ],
      "text/plain": [
       "MSZoning  C (all)  FV  RH    RL   RM\n",
       "BldgType                            \n",
       "1Fam            9  38   9  1025  139\n",
       "2fmCon          1   0   2    16   12\n",
       "Duplex          0   0   3    43    6\n",
       "Twnhs           0   9   0    10   24\n",
       "TwnhsE          0  18   2    57   37"
      ]
     },
     "execution_count": 171,
     "metadata": {},
     "output_type": "execute_result"
    }
   ],
   "source": [
    "contingency_table"
   ]
  },
  {
   "cell_type": "code",
   "execution_count": 172,
   "id": "bd6a5a45",
   "metadata": {},
   "outputs": [
    {
     "data": {
      "text/plain": [
       "Chi2ContingencyResult(statistic=222.95209456537017, pvalue=1.7470289640148326e-38, dof=16, expected_freq=array([[8.35616438e+00, 5.43150685e+01, 1.33698630e+01, 9.61794521e+02,\n",
       "        1.82164384e+02],\n",
       "       [2.12328767e-01, 1.38013699e+00, 3.39726027e-01, 2.44390411e+01,\n",
       "        4.62876712e+00],\n",
       "       [3.56164384e-01, 2.31506849e+00, 5.69863014e-01, 4.09945205e+01,\n",
       "        7.76438356e+00],\n",
       "       [2.94520548e-01, 1.91438356e+00, 4.71232877e-01, 3.38993151e+01,\n",
       "        6.42054795e+00],\n",
       "       [7.80821918e-01, 5.07534247e+00, 1.24931507e+00, 8.98726027e+01,\n",
       "        1.70219178e+01]]))"
      ]
     },
     "execution_count": 172,
     "metadata": {},
     "output_type": "execute_result"
    }
   ],
   "source": [
    "chi2_contingency(contingency_table)"
   ]
  },
  {
   "cell_type": "markdown",
   "id": "d326c20f",
   "metadata": {},
   "source": [
    "Для того, щоб проаналізувати чи типи будинків (BldgType) одинаково розподілені по зонах (MSZoning) ми провели Хі-квадрат тест. Отримане значення pvalue є дуже малим (1.7470289640148326e-38), що дозволяє спростувати нульову гіпотезу (категорії не є залежними). Відповідно, ми можемо стверджувати, що категорії є залежними.\n",
    "\n",
    "За допомогою референс таблиці ми можемо визначити який був би розподіл, якби дві категорії були б незалежні. Як приклад, якщо б BldgType та MSZoning були незалежними, тоді ми б очікували, що кількість будинків з BldgType \"1Fam\" та MSZoning \"C (all)\" була б 8,35, коли по факту у нас є 9; кількість будинків з BldgType \"1Fam\" та MSZoning \"FV\" була б 54, коли по факту у нає є 38; кількість будинків з BldgType \"1Fam\" та MSZoning \"RH\" була б 13, коли по факту у нає є 9; кількість будинків з BldgType \"1Fam\" та MSZoning \"RL\" була б 961, коли по факту у нає є 1025; ількість будинків з BldgType \"1Fam\" та MSZoning \"RM\" була б 182, коли по факту у нає є 139 і тд.\n",
    "\n",
    "Отримані результати свідчать про те, що розподіл типів будинків (BldgType) суттєво відрізняється в різних зонах (MSZoning). Велике значення статистики хі-квадрат та дуже малий p-value свідчать про статистичну значимість цієї різниці. Таким чином, ми можемо відхилити нульову гіпотезу про однаковий розподіл типів будинків у різних зонах на користь альтернативної гіпотези про їх різноманітність.\n",
    "\n",
    "Велике значення статистики Хі-квадрат (222.95209456537017) вказує на значущі відмінності між спостережуваними та очікуваними частотами розподілу типів будинків у різних зонах. Оскільки, дані відрізняються від очікуваних, тому Хі-квадрат і показав, що значима різниця існує, відповідно дві категорії пов'язані."
   ]
  }
 ],
 "metadata": {
  "kernelspec": {
   "display_name": "Python 3 (ipykernel)",
   "language": "python",
   "name": "python3"
  },
  "language_info": {
   "codemirror_mode": {
    "name": "ipython",
    "version": 3
   },
   "file_extension": ".py",
   "mimetype": "text/x-python",
   "name": "python",
   "nbconvert_exporter": "python",
   "pygments_lexer": "ipython3",
   "version": "3.11.3"
  }
 },
 "nbformat": 4,
 "nbformat_minor": 5
}
